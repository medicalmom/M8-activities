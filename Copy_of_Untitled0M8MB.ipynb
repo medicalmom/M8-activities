{
  "nbformat": 4,
  "nbformat_minor": 0,
  "metadata": {
    "colab": {
      "name": "Copy of Untitled0M8MB.ipynb",
      "provenance": [],
      "include_colab_link": true
    },
    "kernelspec": {
      "name": "python3",
      "display_name": "Python 3"
    }
  },
  "cells": [
    {
      "cell_type": "markdown",
      "metadata": {
        "id": "view-in-github",
        "colab_type": "text"
      },
      "source": [
        "<a href=\"https://colab.research.google.com/github/medicalmom/M8-activities/blob/master/Copy_of_Untitled0M8MB.ipynb\" target=\"_parent\"><img src=\"https://colab.research.google.com/assets/colab-badge.svg\" alt=\"Open In Colab\"/></a>"
      ]
    },
    {
      "cell_type": "code",
      "metadata": {
        "id": "mjEh-B6zrlNm",
        "colab_type": "code",
        "colab": {}
      },
      "source": [
        "import pandas as pd\n",
        "mv_data = pd.read_csv('https://data.cityofnewyork.us/resource/h9gi-nx95.csv?$limit=30000')   "
      ],
      "execution_count": 0,
      "outputs": []
    },
    {
      "cell_type": "markdown",
      "metadata": {
        "id": "iBGNq7q0xQmN",
        "colab_type": "text"
      },
      "source": [
        "### We import the data set from nypd motor vehicle crash and limit 30,000 rows to work with some of the dataset."
      ]
    },
    {
      "cell_type": "markdown",
      "metadata": {
        "id": "IUtTPfHlxm_u",
        "colab_type": "text"
      },
      "source": [
        "### Next, look at the number of rows and columns in the data set imported using shape command"
      ]
    },
    {
      "cell_type": "code",
      "metadata": {
        "id": "YOorx-dvrt7o",
        "colab_type": "code",
        "outputId": "32356dc7-2d47-4069-b380-9c9cb6c6fbb8",
        "colab": {
          "base_uri": "https://localhost:8080/",
          "height": 34
        }
      },
      "source": [
        "mv_data.shape\n"
      ],
      "execution_count": 2,
      "outputs": [
        {
          "output_type": "execute_result",
          "data": {
            "text/plain": [
              "(30000, 29)"
            ]
          },
          "metadata": {
            "tags": []
          },
          "execution_count": 2
        }
      ]
    },
    {
      "cell_type": "markdown",
      "metadata": {
        "id": "4qhJq9cwxz5O",
        "colab_type": "text"
      },
      "source": [
        "### We have 30,000 rows and 29 columns of data in the information imported. Let's put it into an array with headers for each column"
      ]
    },
    {
      "cell_type": "code",
      "metadata": {
        "id": "cktt_QJrtuIo",
        "colab_type": "code",
        "outputId": "2cd1ffe8-4604-4d5c-bffd-f23a6a4bd453",
        "colab": {
          "base_uri": "https://localhost:8080/",
          "height": 367
        }
      },
      "source": [
        "mv_data.head()"
      ],
      "execution_count": 3,
      "outputs": [
        {
          "output_type": "execute_result",
          "data": {
            "text/html": [
              "<div>\n",
              "<style scoped>\n",
              "    .dataframe tbody tr th:only-of-type {\n",
              "        vertical-align: middle;\n",
              "    }\n",
              "\n",
              "    .dataframe tbody tr th {\n",
              "        vertical-align: top;\n",
              "    }\n",
              "\n",
              "    .dataframe thead th {\n",
              "        text-align: right;\n",
              "    }\n",
              "</style>\n",
              "<table border=\"1\" class=\"dataframe\">\n",
              "  <thead>\n",
              "    <tr style=\"text-align: right;\">\n",
              "      <th></th>\n",
              "      <th>date</th>\n",
              "      <th>time</th>\n",
              "      <th>borough</th>\n",
              "      <th>zip_code</th>\n",
              "      <th>latitude</th>\n",
              "      <th>longitude</th>\n",
              "      <th>location</th>\n",
              "      <th>on_street_name</th>\n",
              "      <th>off_street_name</th>\n",
              "      <th>cross_street_name</th>\n",
              "      <th>number_of_persons_injured</th>\n",
              "      <th>number_of_persons_killed</th>\n",
              "      <th>number_of_pedestrians_injured</th>\n",
              "      <th>number_of_pedestrians_killed</th>\n",
              "      <th>number_of_cyclist_injured</th>\n",
              "      <th>number_of_cyclist_killed</th>\n",
              "      <th>number_of_motorist_injured</th>\n",
              "      <th>number_of_motorist_killed</th>\n",
              "      <th>contributing_factor_vehicle_1</th>\n",
              "      <th>contributing_factor_vehicle_2</th>\n",
              "      <th>contributing_factor_vehicle_3</th>\n",
              "      <th>contributing_factor_vehicle_4</th>\n",
              "      <th>contributing_factor_vehicle_5</th>\n",
              "      <th>unique_key</th>\n",
              "      <th>vehicle_type_code1</th>\n",
              "      <th>vehicle_type_code2</th>\n",
              "      <th>vehicle_type_code_3</th>\n",
              "      <th>vehicle_type_code_4</th>\n",
              "      <th>vehicle_type_code_5</th>\n",
              "    </tr>\n",
              "  </thead>\n",
              "  <tbody>\n",
              "    <tr>\n",
              "      <th>0</th>\n",
              "      <td>2013-08-03T00:00:00.000</td>\n",
              "      <td>18:00</td>\n",
              "      <td>BROOKLYN</td>\n",
              "      <td>11223.0</td>\n",
              "      <td>40.591451</td>\n",
              "      <td>-73.976513</td>\n",
              "      <td>POINT (-73.9765134 40.5914514)</td>\n",
              "      <td>86 STREET</td>\n",
              "      <td>WEST 6 STREET</td>\n",
              "      <td>NaN</td>\n",
              "      <td>0</td>\n",
              "      <td>0</td>\n",
              "      <td>0</td>\n",
              "      <td>0</td>\n",
              "      <td>0</td>\n",
              "      <td>0</td>\n",
              "      <td>0</td>\n",
              "      <td>0</td>\n",
              "      <td>Driver Inattention/Distraction</td>\n",
              "      <td>Unspecified</td>\n",
              "      <td>NaN</td>\n",
              "      <td>NaN</td>\n",
              "      <td>NaN</td>\n",
              "      <td>115333</td>\n",
              "      <td>SPORT UTILITY / STATION WAGON</td>\n",
              "      <td>PASSENGER VEHICLE</td>\n",
              "      <td>NaN</td>\n",
              "      <td>NaN</td>\n",
              "      <td>NaN</td>\n",
              "    </tr>\n",
              "    <tr>\n",
              "      <th>1</th>\n",
              "      <td>2013-08-10T00:00:00.000</td>\n",
              "      <td>11:20</td>\n",
              "      <td>NaN</td>\n",
              "      <td>NaN</td>\n",
              "      <td>NaN</td>\n",
              "      <td>NaN</td>\n",
              "      <td>NaN</td>\n",
              "      <td>SEABURY STREET</td>\n",
              "      <td>54 AVENUE</td>\n",
              "      <td>NaN</td>\n",
              "      <td>0</td>\n",
              "      <td>0</td>\n",
              "      <td>0</td>\n",
              "      <td>0</td>\n",
              "      <td>0</td>\n",
              "      <td>0</td>\n",
              "      <td>0</td>\n",
              "      <td>0</td>\n",
              "      <td>Driver Inattention/Distraction</td>\n",
              "      <td>Unspecified</td>\n",
              "      <td>NaN</td>\n",
              "      <td>NaN</td>\n",
              "      <td>NaN</td>\n",
              "      <td>257822</td>\n",
              "      <td>PASSENGER VEHICLE</td>\n",
              "      <td>PASSENGER VEHICLE</td>\n",
              "      <td>NaN</td>\n",
              "      <td>NaN</td>\n",
              "      <td>NaN</td>\n",
              "    </tr>\n",
              "    <tr>\n",
              "      <th>2</th>\n",
              "      <td>2013-07-19T00:00:00.000</td>\n",
              "      <td>17:30</td>\n",
              "      <td>BRONX</td>\n",
              "      <td>10453.0</td>\n",
              "      <td>40.861864</td>\n",
              "      <td>-73.912739</td>\n",
              "      <td>POINT (-73.9127392 40.8618642)</td>\n",
              "      <td>WEST FORDHAM ROAD</td>\n",
              "      <td>MAJOR DEEGAN EXPRESSWAY</td>\n",
              "      <td>NaN</td>\n",
              "      <td>2</td>\n",
              "      <td>0</td>\n",
              "      <td>0</td>\n",
              "      <td>0</td>\n",
              "      <td>0</td>\n",
              "      <td>0</td>\n",
              "      <td>2</td>\n",
              "      <td>0</td>\n",
              "      <td>Unspecified</td>\n",
              "      <td>Unspecified</td>\n",
              "      <td>NaN</td>\n",
              "      <td>NaN</td>\n",
              "      <td>NaN</td>\n",
              "      <td>111939</td>\n",
              "      <td>PASSENGER VEHICLE</td>\n",
              "      <td>SPORT UTILITY / STATION WAGON</td>\n",
              "      <td>NaN</td>\n",
              "      <td>NaN</td>\n",
              "      <td>NaN</td>\n",
              "    </tr>\n",
              "    <tr>\n",
              "      <th>3</th>\n",
              "      <td>2013-07-19T00:00:00.000</td>\n",
              "      <td>17:10</td>\n",
              "      <td>QUEENS</td>\n",
              "      <td>11372.0</td>\n",
              "      <td>40.749745</td>\n",
              "      <td>-73.884309</td>\n",
              "      <td>POINT (-73.8843088 40.7497446)</td>\n",
              "      <td>37 AVENUE</td>\n",
              "      <td>82 STREET</td>\n",
              "      <td>NaN</td>\n",
              "      <td>0</td>\n",
              "      <td>0</td>\n",
              "      <td>0</td>\n",
              "      <td>0</td>\n",
              "      <td>0</td>\n",
              "      <td>0</td>\n",
              "      <td>0</td>\n",
              "      <td>0</td>\n",
              "      <td>Unspecified</td>\n",
              "      <td>Unspecified</td>\n",
              "      <td>NaN</td>\n",
              "      <td>NaN</td>\n",
              "      <td>NaN</td>\n",
              "      <td>282673</td>\n",
              "      <td>PASSENGER VEHICLE</td>\n",
              "      <td>PASSENGER VEHICLE</td>\n",
              "      <td>NaN</td>\n",
              "      <td>NaN</td>\n",
              "      <td>NaN</td>\n",
              "    </tr>\n",
              "    <tr>\n",
              "      <th>4</th>\n",
              "      <td>2013-07-29T00:00:00.000</td>\n",
              "      <td>10:30</td>\n",
              "      <td>MANHATTAN</td>\n",
              "      <td>10022.0</td>\n",
              "      <td>40.761551</td>\n",
              "      <td>-73.966584</td>\n",
              "      <td>POINT (-73.9665842 40.7615508)</td>\n",
              "      <td>EAST 59 STREET</td>\n",
              "      <td>3 AVENUE</td>\n",
              "      <td>NaN</td>\n",
              "      <td>0</td>\n",
              "      <td>0</td>\n",
              "      <td>0</td>\n",
              "      <td>0</td>\n",
              "      <td>0</td>\n",
              "      <td>0</td>\n",
              "      <td>0</td>\n",
              "      <td>0</td>\n",
              "      <td>Fatigued/Drowsy</td>\n",
              "      <td>Unspecified</td>\n",
              "      <td>NaN</td>\n",
              "      <td>NaN</td>\n",
              "      <td>NaN</td>\n",
              "      <td>35637</td>\n",
              "      <td>SPORT UTILITY / STATION WAGON</td>\n",
              "      <td>SPORT UTILITY / STATION WAGON</td>\n",
              "      <td>NaN</td>\n",
              "      <td>NaN</td>\n",
              "      <td>NaN</td>\n",
              "    </tr>\n",
              "  </tbody>\n",
              "</table>\n",
              "</div>"
            ],
            "text/plain": [
              "                      date   time  ... vehicle_type_code_4  vehicle_type_code_5\n",
              "0  2013-08-03T00:00:00.000  18:00  ...                 NaN                  NaN\n",
              "1  2013-08-10T00:00:00.000  11:20  ...                 NaN                  NaN\n",
              "2  2013-07-19T00:00:00.000  17:30  ...                 NaN                  NaN\n",
              "3  2013-07-19T00:00:00.000  17:10  ...                 NaN                  NaN\n",
              "4  2013-07-29T00:00:00.000  10:30  ...                 NaN                  NaN\n",
              "\n",
              "[5 rows x 29 columns]"
            ]
          },
          "metadata": {
            "tags": []
          },
          "execution_count": 3
        }
      ]
    },
    {
      "cell_type": "markdown",
      "metadata": {
        "id": "zq3xgngIuTC2",
        "colab_type": "text"
      },
      "source": [
        "### We take a look at the columns and what each contains. Look at the mean, standard deviation, counts for information present, minimum, maximum and percentiles to see what the variance is. "
      ]
    },
    {
      "cell_type": "code",
      "metadata": {
        "id": "MAvz6yxRuUBR",
        "colab_type": "code",
        "outputId": "84cabb84-9176-491f-df07-44de58cc3d08",
        "colab": {
          "base_uri": "https://localhost:8080/",
          "height": 307
        }
      },
      "source": [
        "mv_data.describe()"
      ],
      "execution_count": 4,
      "outputs": [
        {
          "output_type": "execute_result",
          "data": {
            "text/html": [
              "<div>\n",
              "<style scoped>\n",
              "    .dataframe tbody tr th:only-of-type {\n",
              "        vertical-align: middle;\n",
              "    }\n",
              "\n",
              "    .dataframe tbody tr th {\n",
              "        vertical-align: top;\n",
              "    }\n",
              "\n",
              "    .dataframe thead th {\n",
              "        text-align: right;\n",
              "    }\n",
              "</style>\n",
              "<table border=\"1\" class=\"dataframe\">\n",
              "  <thead>\n",
              "    <tr style=\"text-align: right;\">\n",
              "      <th></th>\n",
              "      <th>zip_code</th>\n",
              "      <th>latitude</th>\n",
              "      <th>longitude</th>\n",
              "      <th>number_of_persons_injured</th>\n",
              "      <th>number_of_persons_killed</th>\n",
              "      <th>number_of_pedestrians_injured</th>\n",
              "      <th>number_of_pedestrians_killed</th>\n",
              "      <th>number_of_cyclist_injured</th>\n",
              "      <th>number_of_cyclist_killed</th>\n",
              "      <th>number_of_motorist_injured</th>\n",
              "      <th>number_of_motorist_killed</th>\n",
              "      <th>unique_key</th>\n",
              "    </tr>\n",
              "  </thead>\n",
              "  <tbody>\n",
              "    <tr>\n",
              "      <th>count</th>\n",
              "      <td>22018.000000</td>\n",
              "      <td>24534.000000</td>\n",
              "      <td>24534.000000</td>\n",
              "      <td>30000.000000</td>\n",
              "      <td>30000.000000</td>\n",
              "      <td>30000.000000</td>\n",
              "      <td>30000.000000</td>\n",
              "      <td>30000.000000</td>\n",
              "      <td>30000.000000</td>\n",
              "      <td>30000.000000</td>\n",
              "      <td>30000.000000</td>\n",
              "      <td>3.000000e+04</td>\n",
              "    </tr>\n",
              "    <tr>\n",
              "      <th>mean</th>\n",
              "      <td>10793.974248</td>\n",
              "      <td>40.722929</td>\n",
              "      <td>-73.925559</td>\n",
              "      <td>0.283233</td>\n",
              "      <td>0.001400</td>\n",
              "      <td>0.049000</td>\n",
              "      <td>0.000733</td>\n",
              "      <td>0.027733</td>\n",
              "      <td>0.000033</td>\n",
              "      <td>0.206500</td>\n",
              "      <td>0.000633</td>\n",
              "      <td>6.811260e+05</td>\n",
              "    </tr>\n",
              "    <tr>\n",
              "      <th>std</th>\n",
              "      <td>569.831306</td>\n",
              "      <td>0.077185</td>\n",
              "      <td>0.085721</td>\n",
              "      <td>0.707740</td>\n",
              "      <td>0.039133</td>\n",
              "      <td>0.225833</td>\n",
              "      <td>0.027071</td>\n",
              "      <td>0.165222</td>\n",
              "      <td>0.005774</td>\n",
              "      <td>0.673998</td>\n",
              "      <td>0.026450</td>\n",
              "      <td>1.194047e+06</td>\n",
              "    </tr>\n",
              "    <tr>\n",
              "      <th>min</th>\n",
              "      <td>10000.000000</td>\n",
              "      <td>40.499842</td>\n",
              "      <td>-74.252452</td>\n",
              "      <td>0.000000</td>\n",
              "      <td>0.000000</td>\n",
              "      <td>0.000000</td>\n",
              "      <td>0.000000</td>\n",
              "      <td>0.000000</td>\n",
              "      <td>0.000000</td>\n",
              "      <td>0.000000</td>\n",
              "      <td>0.000000</td>\n",
              "      <td>2.941000e+03</td>\n",
              "    </tr>\n",
              "    <tr>\n",
              "      <th>25%</th>\n",
              "      <td>10040.000000</td>\n",
              "      <td>40.669477</td>\n",
              "      <td>-73.981342</td>\n",
              "      <td>0.000000</td>\n",
              "      <td>0.000000</td>\n",
              "      <td>0.000000</td>\n",
              "      <td>0.000000</td>\n",
              "      <td>0.000000</td>\n",
              "      <td>0.000000</td>\n",
              "      <td>0.000000</td>\n",
              "      <td>0.000000</td>\n",
              "      <td>9.067775e+04</td>\n",
              "    </tr>\n",
              "    <tr>\n",
              "      <th>50%</th>\n",
              "      <td>11203.000000</td>\n",
              "      <td>40.724136</td>\n",
              "      <td>-73.935516</td>\n",
              "      <td>0.000000</td>\n",
              "      <td>0.000000</td>\n",
              "      <td>0.000000</td>\n",
              "      <td>0.000000</td>\n",
              "      <td>0.000000</td>\n",
              "      <td>0.000000</td>\n",
              "      <td>0.000000</td>\n",
              "      <td>0.000000</td>\n",
              "      <td>1.813995e+05</td>\n",
              "    </tr>\n",
              "    <tr>\n",
              "      <th>75%</th>\n",
              "      <td>11235.000000</td>\n",
              "      <td>40.765359</td>\n",
              "      <td>-73.872806</td>\n",
              "      <td>0.000000</td>\n",
              "      <td>0.000000</td>\n",
              "      <td>0.000000</td>\n",
              "      <td>0.000000</td>\n",
              "      <td>0.000000</td>\n",
              "      <td>0.000000</td>\n",
              "      <td>0.000000</td>\n",
              "      <td>0.000000</td>\n",
              "      <td>2.765152e+05</td>\n",
              "    </tr>\n",
              "    <tr>\n",
              "      <th>max</th>\n",
              "      <td>11697.000000</td>\n",
              "      <td>40.912019</td>\n",
              "      <td>-73.701905</td>\n",
              "      <td>24.000000</td>\n",
              "      <td>2.000000</td>\n",
              "      <td>4.000000</td>\n",
              "      <td>1.000000</td>\n",
              "      <td>2.000000</td>\n",
              "      <td>1.000000</td>\n",
              "      <td>24.000000</td>\n",
              "      <td>2.000000</td>\n",
              "      <td>4.229003e+06</td>\n",
              "    </tr>\n",
              "  </tbody>\n",
              "</table>\n",
              "</div>"
            ],
            "text/plain": [
              "           zip_code      latitude  ...  number_of_motorist_killed    unique_key\n",
              "count  22018.000000  24534.000000  ...               30000.000000  3.000000e+04\n",
              "mean   10793.974248     40.722929  ...                   0.000633  6.811260e+05\n",
              "std      569.831306      0.077185  ...                   0.026450  1.194047e+06\n",
              "min    10000.000000     40.499842  ...                   0.000000  2.941000e+03\n",
              "25%    10040.000000     40.669477  ...                   0.000000  9.067775e+04\n",
              "50%    11203.000000     40.724136  ...                   0.000000  1.813995e+05\n",
              "75%    11235.000000     40.765359  ...                   0.000000  2.765152e+05\n",
              "max    11697.000000     40.912019  ...                   2.000000  4.229003e+06\n",
              "\n",
              "[8 rows x 12 columns]"
            ]
          },
          "metadata": {
            "tags": []
          },
          "execution_count": 4
        }
      ]
    },
    {
      "cell_type": "markdown",
      "metadata": {
        "id": "IAri9rDy_A8m",
        "colab_type": "text"
      },
      "source": [
        "### We can also look at the mixed data types and see if there are missing values. Use .info to look:"
      ]
    },
    {
      "cell_type": "code",
      "metadata": {
        "id": "otl7hVQ-wNgg",
        "colab_type": "code",
        "outputId": "d8649b3e-6b69-426b-c19d-ef6d8c457fd6",
        "colab": {
          "base_uri": "https://localhost:8080/",
          "height": 265
        }
      },
      "source": [
        "mv_data.info"
      ],
      "execution_count": 5,
      "outputs": [
        {
          "output_type": "execute_result",
          "data": {
            "text/plain": [
              "<bound method DataFrame.info of                           date   time  ... vehicle_type_code_4  vehicle_type_code_5\n",
              "0      2013-08-03T00:00:00.000  18:00  ...                 NaN                  NaN\n",
              "1      2013-08-10T00:00:00.000  11:20  ...                 NaN                  NaN\n",
              "2      2013-07-19T00:00:00.000  17:30  ...                 NaN                  NaN\n",
              "3      2013-07-19T00:00:00.000  17:10  ...                 NaN                  NaN\n",
              "4      2013-07-29T00:00:00.000  10:30  ...                 NaN                  NaN\n",
              "...                        ...    ...  ...                 ...                  ...\n",
              "29995  2019-10-20T00:00:00.000   9:10  ...                 NaN                  NaN\n",
              "29996  2019-10-13T00:00:00.000  19:44  ...                 NaN                  NaN\n",
              "29997  2019-10-06T00:00:00.000   4:00  ...                 NaN                  NaN\n",
              "29998  2019-09-29T00:00:00.000  13:00  ...                 NaN                  NaN\n",
              "29999  2019-10-03T00:00:00.000   9:18  ...                 NaN                  NaN\n",
              "\n",
              "[30000 rows x 29 columns]>"
            ]
          },
          "metadata": {
            "tags": []
          },
          "execution_count": 5
        }
      ]
    },
    {
      "cell_type": "markdown",
      "metadata": {
        "id": "03JqN9qpCA9D",
        "colab_type": "text"
      },
      "source": [
        "##**The mv_data data set needs to have some data cleaned up and some removed.** Here are some of the things I noted and would like to change:\n",
        "\n",
        "####Data column - these dates need to have decimal removed, so make integer rather than float\n",
        "\n",
        "####Date and Time columns - would be ideal to combine these columns and make a timestamp\n",
        "\n",
        "####zip_code column - remove the NAN and Nan rows, make these numbers integer and not float\n",
        "\n",
        "####vehicle_type_code columns - consider removing the columns for vehicles 3, 4, and 5 since there are alot of NaN values and will likely look at just the first vehicle involved. \n",
        "\n",
        "####unique_key column - this is probably not useful information for our purposes and could remove this column.\n",
        "\n",
        "####contributing_factor_vehicle - could consider removing the columns for vehicles 3, 4, and 5 as there are alot of NaN values. \n"
      ]
    },
    {
      "cell_type": "markdown",
      "metadata": {
        "id": "CgGh29zgPDsH",
        "colab_type": "text"
      },
      "source": [
        "#### Let's drop the column unique_key and then find the percent of NaN values in the remaining columns, looking especially at the columns we just considered dropping."
      ]
    },
    {
      "cell_type": "code",
      "metadata": {
        "id": "HmsiuMSWHOww",
        "colab_type": "code",
        "outputId": "b9d3a967-42b0-4028-ed1d-810a7f25c82b",
        "colab": {
          "base_uri": "https://localhost:8080/",
          "height": 532
        }
      },
      "source": [
        "new_mv_data = mv_data.drop(columns = [\"unique_key\"])\n",
        "new_mv_data.isnull().mean()*100"
      ],
      "execution_count": 0,
      "outputs": [
        {
          "output_type": "execute_result",
          "data": {
            "text/plain": [
              "date                              0.000000\n",
              "time                              0.000000\n",
              "borough                          26.606667\n",
              "zip_code                         26.606667\n",
              "latitude                         18.220000\n",
              "longitude                        18.220000\n",
              "location                         18.220000\n",
              "on_street_name                   16.060000\n",
              "off_street_name                  17.326667\n",
              "cross_street_name                96.420000\n",
              "number_of_persons_injured         0.000000\n",
              "number_of_persons_killed          0.000000\n",
              "number_of_pedestrians_injured     0.000000\n",
              "number_of_pedestrians_killed      0.000000\n",
              "number_of_cyclist_injured         0.000000\n",
              "number_of_cyclist_killed          0.000000\n",
              "number_of_motorist_injured        0.000000\n",
              "number_of_motorist_killed         0.000000\n",
              "contributing_factor_vehicle_1     0.126667\n",
              "contributing_factor_vehicle_2    11.013333\n",
              "contributing_factor_vehicle_3    93.140000\n",
              "contributing_factor_vehicle_4    98.643333\n",
              "contributing_factor_vehicle_5    99.726667\n",
              "vehicle_type_code1                0.023333\n",
              "vehicle_type_code2                9.763333\n",
              "vehicle_type_code_3              93.140000\n",
              "vehicle_type_code_4              98.640000\n",
              "vehicle_type_code_5              99.730000\n",
              "dtype: float64"
            ]
          },
          "metadata": {
            "tags": []
          },
          "execution_count": 19
        }
      ]
    },
    {
      "cell_type": "markdown",
      "metadata": {
        "id": "-lYeX70jQnWy",
        "colab_type": "text"
      },
      "source": [
        "#### We will drop the columns with greater than 90% of values that are missing or NaN and create new data frame, new_mv_data1"
      ]
    },
    {
      "cell_type": "code",
      "metadata": {
        "id": "Jts_Hn2BPLIg",
        "colab_type": "code",
        "outputId": "4312f217-f0d4-4919-ce1f-fa9f04c85779",
        "colab": {
          "base_uri": "https://localhost:8080/",
          "height": 367
        }
      },
      "source": [
        "new_mv_data1 = mv_data.drop(columns = [\"unique_key\", \"cross_street_name\", \"contributing_factor_vehicle_3\", \"contributing_factor_vehicle_4\", \"contributing_factor_vehicle_5\", \"vehicle_type_code_3\", \"vehicle_type_code_4\", \"vehicle_type_code_5\"])\n",
        "new_mv_data1.head()"
      ],
      "execution_count": 21,
      "outputs": [
        {
          "output_type": "execute_result",
          "data": {
            "text/html": [
              "<div>\n",
              "<style scoped>\n",
              "    .dataframe tbody tr th:only-of-type {\n",
              "        vertical-align: middle;\n",
              "    }\n",
              "\n",
              "    .dataframe tbody tr th {\n",
              "        vertical-align: top;\n",
              "    }\n",
              "\n",
              "    .dataframe thead th {\n",
              "        text-align: right;\n",
              "    }\n",
              "</style>\n",
              "<table border=\"1\" class=\"dataframe\">\n",
              "  <thead>\n",
              "    <tr style=\"text-align: right;\">\n",
              "      <th></th>\n",
              "      <th>date</th>\n",
              "      <th>time</th>\n",
              "      <th>borough</th>\n",
              "      <th>zip_code</th>\n",
              "      <th>latitude</th>\n",
              "      <th>longitude</th>\n",
              "      <th>location</th>\n",
              "      <th>on_street_name</th>\n",
              "      <th>off_street_name</th>\n",
              "      <th>number_of_persons_injured</th>\n",
              "      <th>number_of_persons_killed</th>\n",
              "      <th>number_of_pedestrians_injured</th>\n",
              "      <th>number_of_pedestrians_killed</th>\n",
              "      <th>number_of_cyclist_injured</th>\n",
              "      <th>number_of_cyclist_killed</th>\n",
              "      <th>number_of_motorist_injured</th>\n",
              "      <th>number_of_motorist_killed</th>\n",
              "      <th>contributing_factor_vehicle_1</th>\n",
              "      <th>contributing_factor_vehicle_2</th>\n",
              "      <th>vehicle_type_code1</th>\n",
              "      <th>vehicle_type_code2</th>\n",
              "    </tr>\n",
              "  </thead>\n",
              "  <tbody>\n",
              "    <tr>\n",
              "      <th>0</th>\n",
              "      <td>2013-08-03T00:00:00.000</td>\n",
              "      <td>18:00</td>\n",
              "      <td>BROOKLYN</td>\n",
              "      <td>11223.0</td>\n",
              "      <td>40.591451</td>\n",
              "      <td>-73.976513</td>\n",
              "      <td>POINT (-73.9765134 40.5914514)</td>\n",
              "      <td>86 STREET</td>\n",
              "      <td>WEST 6 STREET</td>\n",
              "      <td>0</td>\n",
              "      <td>0</td>\n",
              "      <td>0</td>\n",
              "      <td>0</td>\n",
              "      <td>0</td>\n",
              "      <td>0</td>\n",
              "      <td>0</td>\n",
              "      <td>0</td>\n",
              "      <td>Driver Inattention/Distraction</td>\n",
              "      <td>Unspecified</td>\n",
              "      <td>SUV</td>\n",
              "      <td>PASSENGER VEHICLE</td>\n",
              "    </tr>\n",
              "    <tr>\n",
              "      <th>1</th>\n",
              "      <td>2013-08-10T00:00:00.000</td>\n",
              "      <td>11:20</td>\n",
              "      <td>NaN</td>\n",
              "      <td>NaN</td>\n",
              "      <td>NaN</td>\n",
              "      <td>NaN</td>\n",
              "      <td>NaN</td>\n",
              "      <td>SEABURY STREET</td>\n",
              "      <td>54 AVENUE</td>\n",
              "      <td>0</td>\n",
              "      <td>0</td>\n",
              "      <td>0</td>\n",
              "      <td>0</td>\n",
              "      <td>0</td>\n",
              "      <td>0</td>\n",
              "      <td>0</td>\n",
              "      <td>0</td>\n",
              "      <td>Driver Inattention/Distraction</td>\n",
              "      <td>Unspecified</td>\n",
              "      <td>PASSENGER VEHICLE</td>\n",
              "      <td>PASSENGER VEHICLE</td>\n",
              "    </tr>\n",
              "    <tr>\n",
              "      <th>2</th>\n",
              "      <td>2013-07-19T00:00:00.000</td>\n",
              "      <td>17:30</td>\n",
              "      <td>BRONX</td>\n",
              "      <td>10453.0</td>\n",
              "      <td>40.861864</td>\n",
              "      <td>-73.912739</td>\n",
              "      <td>POINT (-73.9127392 40.8618642)</td>\n",
              "      <td>WEST FORDHAM ROAD</td>\n",
              "      <td>MAJOR DEEGAN EXPRESSWAY</td>\n",
              "      <td>2</td>\n",
              "      <td>0</td>\n",
              "      <td>0</td>\n",
              "      <td>0</td>\n",
              "      <td>0</td>\n",
              "      <td>0</td>\n",
              "      <td>2</td>\n",
              "      <td>0</td>\n",
              "      <td>Unspecified</td>\n",
              "      <td>Unspecified</td>\n",
              "      <td>PASSENGER VEHICLE</td>\n",
              "      <td>SPORT UTILITY / STATION WAGON</td>\n",
              "    </tr>\n",
              "    <tr>\n",
              "      <th>3</th>\n",
              "      <td>2013-07-19T00:00:00.000</td>\n",
              "      <td>17:10</td>\n",
              "      <td>QUEENS</td>\n",
              "      <td>11372.0</td>\n",
              "      <td>40.749745</td>\n",
              "      <td>-73.884309</td>\n",
              "      <td>POINT (-73.8843088 40.7497446)</td>\n",
              "      <td>37 AVENUE</td>\n",
              "      <td>82 STREET</td>\n",
              "      <td>0</td>\n",
              "      <td>0</td>\n",
              "      <td>0</td>\n",
              "      <td>0</td>\n",
              "      <td>0</td>\n",
              "      <td>0</td>\n",
              "      <td>0</td>\n",
              "      <td>0</td>\n",
              "      <td>Unspecified</td>\n",
              "      <td>Unspecified</td>\n",
              "      <td>PASSENGER VEHICLE</td>\n",
              "      <td>PASSENGER VEHICLE</td>\n",
              "    </tr>\n",
              "    <tr>\n",
              "      <th>4</th>\n",
              "      <td>2013-07-29T00:00:00.000</td>\n",
              "      <td>10:30</td>\n",
              "      <td>MANHATTAN</td>\n",
              "      <td>10022.0</td>\n",
              "      <td>40.761551</td>\n",
              "      <td>-73.966584</td>\n",
              "      <td>POINT (-73.9665842 40.7615508)</td>\n",
              "      <td>EAST 59 STREET</td>\n",
              "      <td>3 AVENUE</td>\n",
              "      <td>0</td>\n",
              "      <td>0</td>\n",
              "      <td>0</td>\n",
              "      <td>0</td>\n",
              "      <td>0</td>\n",
              "      <td>0</td>\n",
              "      <td>0</td>\n",
              "      <td>0</td>\n",
              "      <td>Fatigued/Drowsy</td>\n",
              "      <td>Unspecified</td>\n",
              "      <td>SUV</td>\n",
              "      <td>SPORT UTILITY / STATION WAGON</td>\n",
              "    </tr>\n",
              "  </tbody>\n",
              "</table>\n",
              "</div>"
            ],
            "text/plain": [
              "                      date  ...             vehicle_type_code2\n",
              "0  2013-08-03T00:00:00.000  ...              PASSENGER VEHICLE\n",
              "1  2013-08-10T00:00:00.000  ...              PASSENGER VEHICLE\n",
              "2  2013-07-19T00:00:00.000  ...  SPORT UTILITY / STATION WAGON\n",
              "3  2013-07-19T00:00:00.000  ...              PASSENGER VEHICLE\n",
              "4  2013-07-29T00:00:00.000  ...  SPORT UTILITY / STATION WAGON\n",
              "\n",
              "[5 rows x 21 columns]"
            ]
          },
          "metadata": {
            "tags": []
          },
          "execution_count": 21
        }
      ]
    },
    {
      "cell_type": "markdown",
      "metadata": {
        "id": "kggqJoTmyONH",
        "colab_type": "text"
      },
      "source": [
        "#### Now we can find the unique types of vehicles involved in these crashes. Look at vehicle number one, the first vehicle impacting. This column value is vehicle_type_code1. Here are the first five types of vehicles by numbers."
      ]
    },
    {
      "cell_type": "code",
      "metadata": {
        "id": "-0vItH7Cs10I",
        "colab_type": "code",
        "outputId": "2ea4a984-2f51-448a-f5eb-07fe356c276a",
        "colab": {
          "base_uri": "https://localhost:8080/",
          "height": 123
        }
      },
      "source": [
        "mv_data['vehicle_type_code1'].head(5)"
      ],
      "execution_count": 22,
      "outputs": [
        {
          "output_type": "execute_result",
          "data": {
            "text/plain": [
              "0                  SUV\n",
              "1    PASSENGER VEHICLE\n",
              "2    PASSENGER VEHICLE\n",
              "3    PASSENGER VEHICLE\n",
              "4                  SUV\n",
              "Name: vehicle_type_code1, dtype: object"
            ]
          },
          "metadata": {
            "tags": []
          },
          "execution_count": 22
        }
      ]
    },
    {
      "cell_type": "markdown",
      "metadata": {
        "id": "q0RsHvOUDOHq",
        "colab_type": "text"
      },
      "source": [
        ""
      ]
    },
    {
      "cell_type": "markdown",
      "metadata": {
        "id": "vyqLiVmk5QWn",
        "colab_type": "text"
      },
      "source": [
        "Find the unique types of vehicle for vehicle 1 involved in crash, and find numbers of each of these vehicles. \n"
      ]
    },
    {
      "cell_type": "code",
      "metadata": {
        "id": "a4ZmKtSTw3pi",
        "colab_type": "code",
        "outputId": "91dbcbcd-6d6d-484d-d8b0-f7069f6037ac",
        "colab": {
          "base_uri": "https://localhost:8080/",
          "height": 272
        }
      },
      "source": [
        "mv_data['vehicle_type_code1'].unique()"
      ],
      "execution_count": 0,
      "outputs": [
        {
          "output_type": "execute_result",
          "data": {
            "text/plain": [
              "array(['Bus', 'Van', 'SUV', 'Sedan', 'Tractor Truck Diesel', 'Taxi',\n",
              "       'E-Sco', 'Pick-up Truck', 'E-Bik', 'Dump', 'Motorbike',\n",
              "       'Box Truck', 'Ambulance', 'DELIV', 'Motorscooter', nan,\n",
              "       'Chassis Cab', 'MOPED', 'PASSENGER VEHICLE', 'UNKNOWN', 'VAN',\n",
              "       'SMALL COM VEH(4 TIRES) ', 'PICK-UP TRUCK', 'OTHER', 'TAXI',\n",
              "       'MOTORCYCLE', 'BUS', 'LIVERY VEHICLE', 'Motorcycle',\n",
              "       'Tractor Truck Gasoline', 'Trail', 'TRUCK', 'Garbage or Refuse',\n",
              "       'Moped', 'Minicycle', 'usps', 'tow t', 'MOPD', 'Bike', 'STREE',\n",
              "       'TRACK', 'PK', 'CRANE', 'Flat Bed', 'AMBULANCE',\n",
              "       'LARGE COM VEH(6 OR MORE TIRES)', 'Ambul', 'motor', 'Convertible',\n",
              "       'Tow Truck / Wrecker', 'FDNY', 'Carry All', '3-Door', 'FIRE', 'MS',\n",
              "       'BU', 'CONV', 'Tanker', 'TK', 'BULLD', 'VN', 'NYPD', 'FB', 'GG',\n",
              "       'DS', 'AM', 'TOW T', 'CB', 'TOW', 'LL', 'DP', 'FORKL', 'BICYCLE',\n",
              "       'UTILI', 'RESCU', 'SCOOTER', '4 dr sedan', 'FIRE TRUCK'],\n",
              "      dtype=object)"
            ]
          },
          "metadata": {
            "tags": []
          },
          "execution_count": 41
        }
      ]
    },
    {
      "cell_type": "code",
      "metadata": {
        "id": "-lDL1gwpzBT8",
        "colab_type": "code",
        "outputId": "a40206e8-38c5-4753-aed0-ccd6f931b88d",
        "colab": {
          "base_uri": "https://localhost:8080/",
          "height": 923
        }
      },
      "source": [
        "mv_data['vehicle_type_code1'].value_counts()"
      ],
      "execution_count": 16,
      "outputs": [
        {
          "output_type": "execute_result",
          "data": {
            "text/plain": [
              "PASSENGER VEHICLE                      16146\n",
              "SPORT UTILITY / STATION WAGON           6570\n",
              "TAXI                                    1136\n",
              "VAN                                     1008\n",
              "OTHER                                    786\n",
              "UNKNOWN                                  621\n",
              "LARGE COM VEH(6 OR MORE TIRES)           541\n",
              "Sedan                                    527\n",
              "SMALL COM VEH(4 TIRES)                   492\n",
              "BUS                                      456\n",
              "PICK-UP TRUCK                            445\n",
              "Station Wagon/Sport Utility Vehicle      336\n",
              "LIVERY VEHICLE                           307\n",
              "MOTORCYCLE                               248\n",
              "AMBULANCE                                 84\n",
              "Taxi                                      52\n",
              "Pick-up Truck                             41\n",
              "Box Truck                                 28\n",
              "BICYCLE                                   23\n",
              "Bus                                       21\n",
              "FIRE TRUCK                                19\n",
              "Bike                                      16\n",
              "Tractor Truck Diesel                      13\n",
              "Van                                       10\n",
              "SCOOTER                                   10\n",
              "Motorcycle                                 9\n",
              "Ambulance                                  5\n",
              "Dump                                       5\n",
              "Flat Bed                                   5\n",
              "PK                                         5\n",
              "PEDICAB                                    3\n",
              "4 dr sedan                                 3\n",
              "Motorbike                                  2\n",
              "LIMO                                       2\n",
              "Tractor Truck Gasoline                     2\n",
              "TRACT                                      2\n",
              "RMP V                                      1\n",
              "E-Bik                                      1\n",
              "AMBUL                                      1\n",
              "2015                                       1\n",
              "ambul                                      1\n",
              "Tanker                                     1\n",
              "Chassis Cab                                1\n",
              "E-Sco                                      1\n",
              "Moped                                      1\n",
              "DOT T                                      1\n",
              "BOX                                        1\n",
              "Carry All                                  1\n",
              "GARBA                                      1\n",
              "Convertible                                1\n",
              "Name: vehicle_type_code1, dtype: int64"
            ]
          },
          "metadata": {
            "tags": []
          },
          "execution_count": 16
        }
      ]
    },
    {
      "cell_type": "code",
      "metadata": {
        "id": "w3CFhRSvtNPJ",
        "colab_type": "code",
        "colab": {}
      },
      "source": [
        "\n",
        "top_vehicles = mv_data['vehicle_type_code1'].value_counts().head(5)"
      ],
      "execution_count": 0,
      "outputs": []
    },
    {
      "cell_type": "markdown",
      "metadata": {
        "id": "HTFV1FrLCGjP",
        "colab_type": "text"
      },
      "source": [
        "Also, I would like to take a look to see how many unique on street names there are and what the value counts are for each of these. We could focus on the streets that recur the most times and look specifically at these streets to find out if anything stands out with other facors. "
      ]
    },
    {
      "cell_type": "code",
      "metadata": {
        "id": "YIRSUJzMvasA",
        "colab_type": "code",
        "outputId": "11cb4b92-0ba8-4a61-9b28-d00a84524457",
        "colab": {
          "base_uri": "https://localhost:8080/",
          "height": 123
        }
      },
      "source": [
        "mv_data['on_street_name'].unique()"
      ],
      "execution_count": 9,
      "outputs": [
        {
          "output_type": "execute_result",
          "data": {
            "text/plain": [
              "array(['86 STREET                       ',\n",
              "       'SEABURY STREET                  ',\n",
              "       'WEST FORDHAM ROAD               ', ...,\n",
              "       'EDGEWATER STREET                ',\n",
              "       'JARRETT PLACE                   ',\n",
              "       'LOUISA STREET                   '], dtype=object)"
            ]
          },
          "metadata": {
            "tags": []
          },
          "execution_count": 9
        }
      ]
    },
    {
      "cell_type": "code",
      "metadata": {
        "id": "iLgcIkcC3UtW",
        "colab_type": "code",
        "outputId": "887eb281-556b-4b25-b49e-24ac99a5af13",
        "colab": {
          "base_uri": "https://localhost:8080/",
          "height": 230
        }
      },
      "source": [
        "mv_data['on_street_name'].value_counts()"
      ],
      "execution_count": 10,
      "outputs": [
        {
          "output_type": "execute_result",
          "data": {
            "text/plain": [
              "BROADWAY                            369\n",
              "ATLANTIC AVENUE                     293\n",
              "NORTHERN BOULEVARD                  260\n",
              "FLATBUSH AVENUE                     215\n",
              "QUEENS BOULEVARD                    192\n",
              "                                   ... \n",
              "BUD PLACE                             1\n",
              "146 TERRACE                           1\n",
              "DUPONT STREET                         1\n",
              "138 AVENUE                            1\n",
              "140 AVENUE                            1\n",
              "Name: on_street_name, Length: 3207, dtype: int64"
            ]
          },
          "metadata": {
            "tags": []
          },
          "execution_count": 10
        }
      ]
    },
    {
      "cell_type": "markdown",
      "metadata": {
        "id": "fi2mN3pBCm-u",
        "colab_type": "text"
      },
      "source": [
        "### We can look also at the off street names and see what the unique names are and how many of each of these there are. \n"
      ]
    },
    {
      "cell_type": "code",
      "metadata": {
        "id": "rpk1Dx_k4KqX",
        "colab_type": "code",
        "outputId": "35a9cfb2-c4e5-44b5-8ab7-41432e671476",
        "colab": {
          "base_uri": "https://localhost:8080/",
          "height": 87
        }
      },
      "source": [
        "mv_data['off_street_name'].unique()"
      ],
      "execution_count": 11,
      "outputs": [
        {
          "output_type": "execute_result",
          "data": {
            "text/plain": [
              "array(['WEST 6 STREET                   ',\n",
              "       '54 AVENUE                       ',\n",
              "       'MAJOR DEEGAN EXPRESSWAY         ', ..., 'EAST 61 STREET',\n",
              "       'WEST 11 STREET', 'RICHMOND AVENUE'], dtype=object)"
            ]
          },
          "metadata": {
            "tags": []
          },
          "execution_count": 11
        }
      ]
    },
    {
      "cell_type": "markdown",
      "metadata": {
        "id": "jzLfc_5P4Zbd",
        "colab_type": "text"
      },
      "source": [
        ""
      ]
    },
    {
      "cell_type": "code",
      "metadata": {
        "id": "n8gjwjLy4amd",
        "colab_type": "code",
        "outputId": "69dc0514-833c-4506-cbfa-748d03f79e79",
        "colab": {
          "base_uri": "https://localhost:8080/",
          "height": 230
        }
      },
      "source": [
        "mv_data['off_street_name'].value_counts()"
      ],
      "execution_count": 13,
      "outputs": [
        {
          "output_type": "execute_result",
          "data": {
            "text/plain": [
              "BROADWAY                            361\n",
              "3 AVENUE                            341\n",
              "2 AVENUE                            304\n",
              "7 AVENUE                            271\n",
              "8 AVENUE                            254\n",
              "                                   ... \n",
              "102 CROSS DRIVE                       1\n",
              "DANIELS STREET                        1\n",
              "EAST 75 STREET                        1\n",
              "HOPE STREET                           1\n",
              "MAGENTA STREET                        1\n",
              "Name: off_street_name, Length: 4083, dtype: int64"
            ]
          },
          "metadata": {
            "tags": []
          },
          "execution_count": 13
        }
      ]
    },
    {
      "cell_type": "markdown",
      "metadata": {
        "id": "pCOMTDLwPq1s",
        "colab_type": "text"
      },
      "source": [
        "### sports utility/station wagon, sedan, and then station wagon/sport utility were the largest number of vehicles involved in the crashes. We could maybe combine sports utility/station wagon and station wagon/sport utility groups."
      ]
    },
    {
      "cell_type": "code",
      "metadata": {
        "id": "HmYgxaJyRG1_",
        "colab_type": "code",
        "colab": {}
      },
      "source": [
        "mv_data['vehicle_type_code1'] = mv_data['vehicle_type_code1'].str.replace('SPORT UTILITY / STATION WAGON', 'SUV')\n",
        "mv_data['vehicle_type_code1'] = mv_data['vehicle_type_code1'].str.replace('Station Wagon/Sport Utility Vehicle', 'SUV')\n"
      ],
      "execution_count": 0,
      "outputs": []
    },
    {
      "cell_type": "markdown",
      "metadata": {
        "id": "oeF8NX7fFS2O",
        "colab_type": "text"
      },
      "source": [
        "### Once the cell is run, sport utility / station wagon and station wagon/sport utility vehicle will be seen as SUV in the above dataframe. \n"
      ]
    },
    {
      "cell_type": "code",
      "metadata": {
        "id": "aKL6SH98Jkbm",
        "colab_type": "code",
        "colab": {}
      },
      "source": [
        "number_injured = (\"number_of_pedestrians_injured\" + \"number_of_motorist_injured\" + \"number_of_cyclist_injured\")\n"
      ],
      "execution_count": 0,
      "outputs": []
    },
    {
      "cell_type": "markdown",
      "metadata": {
        "id": "Qndlbn72F4fc",
        "colab_type": "text"
      },
      "source": [
        "### Add the column number_injured to our dataframe new_mv_data1. This will give us a column with the number total injured over all groups. "
      ]
    },
    {
      "cell_type": "code",
      "metadata": {
        "id": "GnlRT0QVF27C",
        "colab_type": "code",
        "colab": {
          "base_uri": "https://localhost:8080/",
          "height": 167
        },
        "outputId": "fb39b155-890d-4e43-ac6a-862ed9a00793"
      },
      "source": [
        "new_mv_data1.insert(\"number_injured\")"
      ],
      "execution_count": 27,
      "outputs": [
        {
          "output_type": "error",
          "ename": "TypeError",
          "evalue": "ignored",
          "traceback": [
            "\u001b[0;31m---------------------------------------------------------------------------\u001b[0m",
            "\u001b[0;31mTypeError\u001b[0m                                 Traceback (most recent call last)",
            "\u001b[0;32m<ipython-input-27-236e56600842>\u001b[0m in \u001b[0;36m<module>\u001b[0;34m()\u001b[0m\n\u001b[0;32m----> 1\u001b[0;31m \u001b[0mnew_mv_data1\u001b[0m\u001b[0;34m.\u001b[0m\u001b[0minsert\u001b[0m\u001b[0;34m(\u001b[0m\u001b[0;34m\"number_injured\"\u001b[0m\u001b[0;34m)\u001b[0m\u001b[0;34m\u001b[0m\u001b[0;34m\u001b[0m\u001b[0m\n\u001b[0m",
            "\u001b[0;31mTypeError\u001b[0m: insert() missing 2 required positional arguments: 'column' and 'value'"
          ]
        }
      ]
    },
    {
      "cell_type": "markdown",
      "metadata": {
        "id": "sL5pghMgLSqH",
        "colab_type": "text"
      },
      "source": [
        "###I would like to add this column to my dataframe. "
      ]
    },
    {
      "cell_type": "markdown",
      "metadata": {
        "id": "__A9Mf3eTBwu",
        "colab_type": "text"
      },
      "source": [
        "The NYPD Motor Vehicle Crash Data set has had some cleaning and prepping. We could do more and also do further analysis "
      ]
    }
  ]
}